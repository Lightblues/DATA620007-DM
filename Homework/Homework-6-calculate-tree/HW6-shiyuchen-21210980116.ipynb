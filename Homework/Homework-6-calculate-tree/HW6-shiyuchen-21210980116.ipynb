{
 "cells": [
  {
   "cell_type": "markdown",
   "metadata": {},
   "source": [
    "## C4.5\n",
    "\n",
    "(1) 根据表 1 数据，利用信息增益比算法（C4.5 算法）生成决策树。请写出详细的计算过程并对生成的决策树作图。（目标分类变量为“工作表现”）\n",
    "\n",
    "![](media/HW6-shiyuchen-21210980116/2022-04-21-11-08-47.png)"
   ]
  },
  {
   "cell_type": "code",
   "execution_count": 1,
   "metadata": {},
   "outputs": [],
   "source": [
    "from numpy import log2"
   ]
  },
  {
   "cell_type": "code",
   "execution_count": 6,
   "metadata": {},
   "outputs": [],
   "source": [
    "e_D = - (5/10 * log2(5/10) + 5/10 * log2(5/10))\n",
    "e_资历 = - (\n",
    "    5/10 * (3/5*log2(3/5) + 2/5*log2(2/5)) + \n",
    "    2/10 * (1/2*log2(1/2) + 1/2*log2(1/2)) +\n",
    "    3/10 * (1/3*log2(1/3) + 2/3*log2(2/3))\n",
    ")"
   ]
  },
  {
   "cell_type": "code",
   "execution_count": 4,
   "metadata": {},
   "outputs": [],
   "source": [
    "def cal_entropy(*l):\n",
    "    # 计算 l 所定义的分布的熵\n",
    "    s = sum(l)\n",
    "    res = 0\n",
    "    for i in l:\n",
    "        res -= i/s * log2(i/s)\n",
    "    return res\n",
    "\n",
    "def cal_conditional_entropy(*lists):\n",
    "    # 计算经过某一类别划分后的条件熵\n",
    "    ss = [sum(l) for l in lists]\n",
    "    res = 0\n",
    "    for l in lists:\n",
    "        res += cal_entropy(*l) * sum(l) / sum(ss)\n",
    "    return res\n",
    "\n",
    "def cal_gain_ratio(entropy, *lists):\n",
    "    # 计算信息增益率\n",
    "    conditional_entropy = cal_conditional_entropy(*lists)\n",
    "    lens = [sum(l) for l in lists]\n",
    "    return (entropy - conditional_entropy) / cal_entropy(*lens)"
   ]
  },
  {
   "cell_type": "markdown",
   "metadata": {},
   "source": [
    "分别计算三个变量的信息增益率"
   ]
  },
  {
   "cell_type": "code",
   "execution_count": 5,
   "metadata": {},
   "outputs": [
    {
     "name": "stdout",
     "output_type": "stream",
     "text": [
      "0.03 0.45 0.13\n"
     ]
    }
   ],
   "source": [
    "# 工作表现 5/5 个 优秀/普通\n",
    "e_D = cal_entropy(5,5)\n",
    "# 3 年以下、5 年以上、3 年至 5 年 的员工 优秀/普通 的数量\n",
    "gr_资历 = cal_gain_ratio(e_D, [3,2], [1,1], [1,2])\n",
    "# 硕士、本科\n",
    "gr_教育程度 = cal_gain_ratio(e_D, [5,2], [3])\n",
    "# 有、经验\n",
    "gr_有无经验 = cal_gain_ratio(e_D, [4,2], [1,3])\n",
    "gr_资历, gr_教育程度, gr_有无经验 = [round(i, 2) for i in [gr_资历, gr_教育程度, gr_有无经验]]\n",
    "print(gr_资历, gr_教育程度, gr_有无经验)"
   ]
  },
  {
   "cell_type": "markdown",
   "metadata": {},
   "source": [
    "选择教育程度划分; 决策: 教育经验本科 -> 普通.\n",
    "\n",
    "然后需要对「硕士」子表进行划分"
   ]
  },
  {
   "cell_type": "code",
   "execution_count": 35,
   "metadata": {},
   "outputs": [
    {
     "name": "stdout",
     "output_type": "stream",
     "text": [
      "0.08 0.07\n"
     ]
    }
   ],
   "source": [
    "e_D_硕士 = cal_entropy(5,2)\n",
    "# 3 年以下、5 年以上、3 年至 5 年\n",
    "gr_资历_硕士 = cal_gain_ratio(e_D_硕士, [3,1], [1,1], [1])\n",
    "gr_有无经验_硕士 = cal_gain_ratio(e_D_硕士, [4,1], [1,1])\n",
    "gr_资历_硕士, gr_有无经验_硕士 = [round(i, 2) for i in [gr_资历_硕士, gr_有无经验_硕士]]\n",
    "print(gr_资历_硕士, gr_有无经验_硕士)"
   ]
  },
  {
   "cell_type": "markdown",
   "metadata": {},
   "source": [
    "根据信息增益率, 选择资历进行划分.\n",
    "\n",
    "决策: 资历 3 年至 5 年 -> 优秀. 对于「5 年以上」的两个员工, 再根据有无经验进行划分; 而「3 年以下」节点所包括的四个员工中, 一个经验为「无」的为优秀, 三个经验为「有」的多数为优秀, 因此统一划分为优秀."
   ]
  },
  {
   "cell_type": "markdown",
   "metadata": {},
   "source": [
    "综上, 决策树为\n",
    "\n",
    "```mermaid\n",
    "graph TD\n",
    "A{教育程度}\n",
    "    A --> | 本科 | B[普通]\n",
    "    A --> | 硕士 | C{资历}\n",
    "    C --> | 3 年以下 | D[优秀]\n",
    "    C --> | 5 年以上 | E{有无经验}\n",
    "    C --> | 3 年至 5 年| F[优秀]\n",
    "    E --> | 有 | G[优秀]\n",
    "    E --> | 无 | H[普通]\n",
    "```"
   ]
  },
  {
   "cell_type": "markdown",
   "metadata": {},
   "source": [
    "![](media/HW6-shiyuchen-21210980116/2022-04-21-11-11-24.png)"
   ]
  }
 ],
 "metadata": {
  "interpreter": {
   "hash": "51f9a97eb3dda597f1369cc31b6245f9d647417f0d13c8d6c139867508e694a8"
  },
  "kernelspec": {
   "display_name": "Python 3.8.8 ('base')",
   "language": "python",
   "name": "python3"
  },
  "language_info": {
   "codemirror_mode": {
    "name": "ipython",
    "version": 3
   },
   "file_extension": ".py",
   "mimetype": "text/x-python",
   "name": "python",
   "nbconvert_exporter": "python",
   "pygments_lexer": "ipython3",
   "version": "3.8.8"
  },
  "orig_nbformat": 4
 },
 "nbformat": 4,
 "nbformat_minor": 2
}
